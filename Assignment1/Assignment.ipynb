{
 "cells": [
  {
   "cell_type": "markdown",
   "id": "74bd568d-3568-4a08-914a-1d671e6055da",
   "metadata": {
    "tags": []
   },
   "source": [
    "# Assignment1: Prototypical Networks\n",
    "\n",
    "\n",
    "<center><img src=\"https://raw.githubusercontent.com/oscarknagg/few-shot/master/assets/proto_nets_diagram.png\"/></center>\n",
    "\n",
    "> Figure 1: Prototypical networks in a nutshell. In a 3-way 5-shot classification task, the class\n",
    "prototypes c1, c2, c3 are computed from each class’s support features (colored circles). The\n",
    "prototypes define decision boundaries based on Euclidean distance. A query example $x$\n",
    "is determined to be class 2 since its features (white circle) lie within that class’s decision\n",
    "region.\n",
    "\n",
    "\n",
    "In this assignment, let's use [**prototypical networks**](https://papers.nips.cc/paper/2017/hash/cb8da6767461f2812ae4290eac7cbc42-Abstract.html) to solve the *n-way k-shot few-shot learning* problem with the [Omniglot](https://www.tensorflow.org/datasets/catalog/omniglot) dataset. \n",
    "\n",
    "- **IMPORTANT**: 과제 제출하실 때 레포트를 pdf로 변환하고, `Assignment.ipynb`, `dataloader.py`, `model.py`, `train.py`, 모두 압축해서 **이름_학번_Assignment1.zip** 형식으로 ETL에 올리시길 바랍니다.\n",
    "- Assignment 1 is due 23:59 PM 4/14. Note that 10%p of your score will be deducted for every hour you are late.\n",
    "- Make sure you are using the latest version of [TensorFlow](https://www.tensorflow.org/api_docs/python/tf), or at least the 2.3 version.\n",
    "- *If you have any questions regarding the assignment, please contact me at steve2972@snu.ac.kr*\n",
    "\n",
    "---"
   ]
  },
  {
   "cell_type": "markdown",
   "id": "3cd832e9-f3f6-475f-9349-3caef2d1c554",
   "metadata": {
    "tags": []
   },
   "source": [
    "\n",
    "## Problem 1\n",
    "\n",
    "We define a **task** to be an *n-way k-shot* image classification problem. The maximum number of tasks that can be created from a dataset can be defined as $M \\choose N$$\\cdot$$ K \\choose k$ where $M$=the number of classes in the dataset, $N$=the number of classes in a task, $K$=the total number of images in a class, and $k$=the number of shots in a class. In this problem, we define a method to create an upper bound to the number of tasks used during training. \n",
    "\n",
    "**Problem**: In the `dataloader.py` file, complete the implementation of the `DataLoader.generate_task_list` method and the `DataLoader.data_generator` method. Details concerning the implementation are as follows:\n",
    "\n",
    "- The `generate_task_list` method generates a **list of dictionaries** where each dictionary comprises a **task** in the form of `{class_name: [random sequence of image indexes]}`\n",
    "    - For example, a 2-way 5-shot task for both the support & query datasets can be generated as `{'A': [1,3,5,7,9,2,4,6,8, 10], 'B': [8,6,4,10,2,1,5,3,7,9]}`\n",
    "    - Note that the length of the random sequence of image indexes should equal the # of shots in the support dataset $+$ # of shots in the query dataset.\n",
    "    \n",
    "- The `data_generator` method generates a **support** and a **query dataset** where each dataset is in the form of a numpy array with shape `[num_way, num_shot, image_width, image_height, num_channels]`.\n",
    "    - Note that `data_generator` is created based on tasks which have the form `{class_name: [random sequence of image indexes]}`\n",
    "    \n",
    "If the `dataloader.py` file is implemented correctly, the following code should run without error."
   ]
  },
  {
   "cell_type": "code",
   "execution_count": 1,
   "id": "af2382c2-8f38-4179-a7bb-1387c551bb45",
   "metadata": {},
   "outputs": [
    {
     "name": "stderr",
     "output_type": "stream",
     "text": [
      "C:\\Users\\fembem\\anaconda3\\envs\\tf-2.8\\lib\\site-packages\\tqdm\\auto.py:22: TqdmWarning: IProgress not found. Please update jupyter and ipywidgets. See https://ipywidgets.readthedocs.io/en/stable/user_install.html\n",
      "  from .autonotebook import tqdm as notebook_tqdm\n"
     ]
    },
    {
     "name": "stdout",
     "output_type": "stream",
     "text": [
      "Preprocessing train Omniglot dataset\n",
      "Finished preprocessing\n",
      "Preprocessing test Omniglot dataset\n",
      "Finished preprocessing\n"
     ]
    }
   ],
   "source": [
    "from dataloader import DataLoader\n",
    "\n",
    "num_ways = 5\n",
    "support_shots = 5\n",
    "query_shots = 5\n",
    "\n",
    "train_dataset = DataLoader('train', n_way=num_ways, n_support=support_shots, n_query=query_shots)\n",
    "val_dataset = DataLoader('test', n_way=num_ways, n_support=support_shots, n_query=query_shots)"
   ]
  },
  {
   "cell_type": "markdown",
   "id": "441bff77-39a0-4950-8305-a964d802b361",
   "metadata": {},
   "source": [
    "**If implemented correctly, we can also visualize a random task using the `visualize_random_task` method.**"
   ]
  },
  {
   "cell_type": "code",
   "execution_count": 2,
   "id": "3e14ae5c-8949-4afb-90d7-99505264df52",
   "metadata": {},
   "outputs": [
    {
     "data": {
      "image/png": "[encoded data removed]",
      "text/plain": [
       "<Figure size 360x360 with 5 Axes>"
      ]
     },
     "metadata": {
      "needs_background": "light"
     },
     "output_type": "display_data"
    },
    {
     "data": {
      "image/png": "[encoded data removed]",
      "text/plain": [
       "<Figure size 360x360 with 5 Axes>"
      ]
     },
     "metadata": {
      "needs_background": "light"
     },
     "output_type": "display_data"
    },
    {
     "data": {
      "image/png": "[encoded data removed]",
      "text/plain": [
       "<Figure size 360x360 with 5 Axes>"
      ]
     },
     "metadata": {
      "needs_background": "light"
     },
     "output_type": "display_data"
    },
    {
     "data": {
      "image/png": "[encoded data removed]",
      "text/plain": [
       "<Figure size 360x360 with 5 Axes>"
      ]
     },
     "metadata": {
      "needs_background": "light"
     },
     "output_type": "display_data"
    },
    {
     "data": {
      "image/png": "[encoded data removed]",
      "text/plain": [
       "<Figure size 360x360 with 5 Axes>"
      ]
     },
     "metadata": {
      "needs_background": "light"
     },
     "output_type": "display_data"
    }
   ],
   "source": [
    "# train_dataset.visualize_random_task()\n",
    "val_dataset.visualize_random_task()"
   ]
  },
  {
   "cell_type": "markdown",
   "id": "0ac3d864-c566-4f3f-b607-f10668d246df",
   "metadata": {
    "tags": []
   },
   "source": [
    "## Problem 2\n",
    "\n",
    "Next we will implement the prototypical network and examine how the performance of the model changes when **the total number of tasks is changed from 1k to 10k**.\n",
    "\n",
    "As discussed in the lecture, the basic idea of protonets is to learn a mapping $f_\\theta(\\cdot)$ from images to features such that images of the same class are close to each other in a feature space. Central to this is the notion of a *prototype*\n",
    "\n",
    "$$c_n = \\frac{1}{K} \\sum_{(x,y)\\in\\mathcal{D}^{tr}_i:y=n} f_\\theta(x)$$\n",
    "\n",
    "i.e. for task $i$, the prototype of the $n$-th class $c_n$ is defined as the mean of the $K$ feature\n",
    "vectors of that class’s support images. To classify some image $x$, we compute a measure of\n",
    "distance $d$ between $f_\\theta(x)$ and each of the prototypes. We will use the squared Euclidean\n",
    "distance:\n",
    "\n",
    "$$d(f_\\theta(x),c_n) = ||f_\\theta(x) - c_n ||^2_2$$\n",
    "\n",
    "We interpret the negative squared distances as **logits**, or *unnormalized log-probabilities,\n",
    "of* $x$ *belonging to each class*. To obtain the proper probabilities, we apply the softmax\n",
    "operation:\n",
    "\n",
    "$$p_\\theta(y = n|x) = \\frac{\\exp(-d(f_\\theta(x),c_n))}{\\sum^N_{n'=1}\\exp(-d(f_\\theta(x),c_{n'}))}$$\n",
    "\n",
    "Because the softmax operation preserves ordering, the class whose prototype is closest to\n",
    "$f_\\theta(x)$ is naturally interpreted as the most likely class for $x$. To train the model to generalize,\n",
    "we compute prototypes using support data, but minimize the negative log likelihood of the query data\n",
    "\n",
    "$$\\mathcal{J}(\\theta) = \\mathbb{E}_{\\mathcal{T}\\sim p(\\mathcal{T}), (\\mathcal{D}^{tr}, \\mathcal{D}^{ts})\\sim \\mathcal{T}} \\left[ \\frac{1}{NQ} \\sum_{(x^{ts},y^{ts})\\sim\\mathcal{D}^{ts}} -\\log p_\\theta(y=y^{ts} | x^{ts})\\right]$$\n",
    "\n",
    "Notice that this is equivalent to using a cross-entropy loss.\n",
    "\n",
    "We optimize $\\theta$ using Adam, and as is standard for stochastic gradient methods, we approximate the objective for $\\mathcal{J}$ with\n",
    "Monte Carlo estimation on minibatches of tasks. Thus, for one minibatch of size $B$, we have\n",
    "\n",
    "$$\\mathcal{J}(\\theta) \\approx \\frac{1}{B}\\sum_{i=1}^B \\left[ \\frac{1}{NQ} \\sum_{(x^{ts},y^{ts})\\sim\\mathcal{D}^{ts}} -\\log p_\\theta(y=y^{ts} | x^{ts})\\right]$$\n",
    "\n",
    "\n",
    "**Problem:**\n",
    "\n",
    "1. In the `model.py` file, complete the implementation of the `Prototypical_Network.call` method. Pay attention to the inline comments.\n",
    "2. Test the model with different amounts of training tasks (e.g. from 1k to 10k).\n",
    "    1.  Create a plot of the validation accuracy using `matplotlib` and report your findings. \n",
    "        - Train and validate the model on 5-way 5-shot tasks for both the support and query datasets.\n",
    "        - [Hint]: you should obtain a query accuracy on the validation split of **at least** 97% with 10k tasks.\n",
    "    2. Also plot how the degree of overfitting (the difference between training accuracy and validation accuracy) changes with different amounts of tasks.\n",
    "3. Repeat (2) with different tasks [5way-1shot, 20way-5shot, 20way-1shot] and report your findings\n"
   ]
  },
  {
   "cell_type": "code",
   "execution_count": 3,
   "id": "bcf817cd-de2e-463c-9016-64cee359d2b9",
   "metadata": {
    "scrolled": true,
    "tags": []
   },
   "outputs": [
    {
     "name": "stdout",
     "output_type": "stream",
     "text": [
      "Epoch1\n",
      "\t-Train Loss:2.385 | Train Acc:84.76%\n",
      "\t-Val Loss:2.452 | Val Acc:81.08%\n",
      "Epoch2\n",
      "\t-Train Loss:2.184 | Train Acc:91.16%\n",
      "\t-Val Loss:2.252 | Val Acc:87.12%\n",
      "Epoch3\n",
      "\t-Train Loss:2.077 | Train Acc:94.08%\n",
      "\t-Val Loss:2.183 | Val Acc:89.92%\n",
      "Epoch4\n",
      "\t-Train Loss:2.002 | Train Acc:96.12%\n",
      "\t-Val Loss:2.081 | Val Acc:94.04%\n",
      "Epoch5\n",
      "\t-Train Loss:1.945 | Train Acc:97.24%\n",
      "\t-Val Loss:2.046 | Val Acc:95.72%\n",
      "Epoch6\n",
      "\t-Train Loss:1.920 | Train Acc:98.32%\n",
      "\t-Val Loss:2.037 | Val Acc:96.24%\n",
      "Epoch7\n",
      "\t-Train Loss:1.898 | Train Acc:98.56%\n",
      "\t-Val Loss:2.000 | Val Acc:96.24%\n",
      "Epoch8\n",
      "\t-Train Loss:1.889 | Train Acc:98.16%\n",
      "\t-Val Loss:1.994 | Val Acc:96.96%\n",
      "Epoch9\n",
      "\t-Train Loss:1.863 | Train Acc:98.68%\n",
      "\t-Val Loss:1.980 | Val Acc:97.24%\n",
      "Epoch10\n",
      "\t-Train Loss:1.878 | Train Acc:98.64%\n",
      "\t-Val Loss:1.972 | Val Acc:97.24%\n",
      "Epoch11\n",
      "\t-Train Loss:1.883 | Train Acc:98.52%\n",
      "\t-Val Loss:1.963 | Val Acc:97.44%\n",
      "Epoch12\n",
      "\t-Train Loss:1.844 | Train Acc:98.92%\n",
      "\t-Val Loss:1.958 | Val Acc:97.60%\n",
      "Epoch13\n",
      "\t-Train Loss:1.836 | Train Acc:99.04%\n",
      "\t-Val Loss:1.971 | Val Acc:96.84%\n",
      "Epoch14\n",
      "\t-Train Loss:1.804 | Train Acc:99.52%\n",
      "\t-Val Loss:1.949 | Val Acc:97.56%\n",
      "Epoch15\n",
      "\t-Train Loss:1.812 | Train Acc:99.52%\n",
      "\t-Val Loss:1.959 | Val Acc:97.52%\n",
      "Epoch16\n",
      "\t-Train Loss:1.817 | Train Acc:99.24%\n",
      "\t-Val Loss:1.951 | Val Acc:97.12%\n",
      "Epoch17\n",
      "\t-Train Loss:1.817 | Train Acc:99.24%\n",
      "\t-Val Loss:1.948 | Val Acc:98.00%\n",
      "Epoch18\n",
      "\t-Train Loss:1.811 | Train Acc:99.36%\n",
      "\t-Val Loss:1.956 | Val Acc:97.84%\n",
      "Epoch19\n",
      "\t-Train Loss:1.804 | Train Acc:99.36%\n",
      "\t-Val Loss:1.935 | Val Acc:97.88%\n",
      "Epoch20\n",
      "\t-Train Loss:1.805 | Train Acc:99.44%\n",
      "\t-Val Loss:1.948 | Val Acc:97.92%\n",
      "Epoch21\n",
      "\t-Train Loss:1.795 | Train Acc:99.52%\n",
      "\t-Val Loss:1.936 | Val Acc:97.64%\n",
      "Epoch22\n",
      "\t-Train Loss:1.782 | Train Acc:99.64%\n",
      "\t-Val Loss:1.929 | Val Acc:98.20%\n",
      "Epoch23\n",
      "\t-Train Loss:1.779 | Train Acc:99.68%\n",
      "\t-Val Loss:1.938 | Val Acc:98.04%\n",
      "Epoch24\n",
      "\t-Train Loss:1.787 | Train Acc:99.56%\n",
      "\t-Val Loss:1.946 | Val Acc:97.72%\n",
      "Epoch25\n",
      "\t-Train Loss:1.780 | Train Acc:99.72%\n",
      "\t-Val Loss:1.939 | Val Acc:97.92%\n",
      "Epoch26\n",
      "\t-Train Loss:1.774 | Train Acc:99.44%\n",
      "\t-Val Loss:1.948 | Val Acc:97.92%\n",
      "Epoch27\n",
      "\t-Train Loss:1.764 | Train Acc:99.68%\n",
      "\t-Val Loss:1.926 | Val Acc:98.40%\n",
      "Epoch28\n",
      "\t-Train Loss:1.756 | Train Acc:99.64%\n",
      "\t-Val Loss:1.939 | Val Acc:98.24%\n",
      "Epoch29\n",
      "\t-Train Loss:1.754 | Train Acc:99.56%\n",
      "\t-Val Loss:1.950 | Val Acc:97.88%\n",
      "Epoch30\n",
      "\t-Train Loss:1.752 | Train Acc:99.88%\n",
      "\t-Val Loss:1.934 | Val Acc:97.92%\n",
      "Epoch31\n",
      "\t-Train Loss:1.762 | Train Acc:99.56%\n",
      "\t-Val Loss:1.959 | Val Acc:97.84%\n",
      "Epoch32\n",
      "\t-Train Loss:1.746 | Train Acc:99.76%\n",
      "\t-Val Loss:1.962 | Val Acc:97.92%\n",
      "Epoch33\n",
      "\t-Train Loss:1.753 | Train Acc:99.56%\n",
      "\t-Val Loss:1.944 | Val Acc:97.48%\n",
      "Epoch34\n",
      "\t-Train Loss:1.747 | Train Acc:99.76%\n",
      "\t-Val Loss:1.943 | Val Acc:98.00%\n",
      "Epoch35\n",
      "\t-Train Loss:1.744 | Train Acc:99.76%\n",
      "\t-Val Loss:1.943 | Val Acc:97.80%\n",
      "Epoch36\n",
      "\t-Train Loss:1.746 | Train Acc:99.84%\n",
      "\t-Val Loss:1.947 | Val Acc:98.28%\n",
      "Epoch37\n",
      "\t-Train Loss:1.730 | Train Acc:99.96%\n",
      "\t-Val Loss:1.940 | Val Acc:98.20%\n",
      "Epoch38\n",
      "\t-Train Loss:1.743 | Train Acc:99.84%\n",
      "\t-Val Loss:1.943 | Val Acc:97.72%\n",
      "Epoch39\n",
      "\t-Train Loss:1.733 | Train Acc:99.84%\n",
      "\t-Val Loss:1.946 | Val Acc:98.28%\n",
      "Epoch40\n",
      "\t-Train Loss:1.738 | Train Acc:99.88%\n",
      "\t-Val Loss:1.961 | Val Acc:97.92%\n",
      "Epoch41\n",
      "\t-Train Loss:1.730 | Train Acc:99.80%\n",
      "\t-Val Loss:1.948 | Val Acc:97.92%\n",
      "Epoch42\n",
      "\t-Train Loss:1.735 | Train Acc:99.72%\n",
      "\t-Val Loss:1.936 | Val Acc:98.44%\n",
      "Epoch43\n",
      "\t-Train Loss:1.715 | Train Acc:99.96%\n",
      "\t-Val Loss:1.959 | Val Acc:97.76%\n",
      "Epoch44\n",
      "\t-Train Loss:1.724 | Train Acc:99.92%\n",
      "\t-Val Loss:1.944 | Val Acc:97.96%\n",
      "Epoch45\n",
      "\t-Train Loss:1.713 | Train Acc:99.88%\n",
      "\t-Val Loss:1.967 | Val Acc:97.52%\n",
      "Epoch46\n",
      "\t-Train Loss:1.729 | Train Acc:99.68%\n",
      "\t-Val Loss:1.936 | Val Acc:98.16%\n",
      "Epoch47\n",
      "\t-Train Loss:1.720 | Train Acc:99.92%\n",
      "\t-Val Loss:1.932 | Val Acc:98.76%\n",
      "Epoch48\n",
      "\t-Train Loss:1.722 | Train Acc:99.84%\n",
      "\t-Val Loss:1.939 | Val Acc:98.64%\n",
      "Epoch49\n",
      "\t-Train Loss:1.710 | Train Acc:100.00%\n",
      "\t-Val Loss:1.944 | Val Acc:98.08%\n",
      "Epoch50\n",
      "\t-Train Loss:1.710 | Train Acc:99.80%\n",
      "\t-Val Loss:1.949 | Val Acc:98.40%\n",
      "Epoch51\n",
      "\t-Train Loss:1.710 | Train Acc:99.88%\n",
      "\t-Val Loss:1.937 | Val Acc:98.04%\n",
      "Epoch52\n",
      "\t-Train Loss:1.722 | Train Acc:99.68%\n",
      "\t-Val Loss:1.959 | Val Acc:97.76%\n",
      "Epoch53\n",
      "\t-Train Loss:1.712 | Train Acc:99.92%\n",
      "\t-Val Loss:1.967 | Val Acc:98.12%\n",
      "Epoch54\n",
      "\t-Train Loss:1.707 | Train Acc:99.92%\n",
      "\t-Val Loss:1.934 | Val Acc:98.00%\n",
      "Epoch55\n",
      "\t-Train Loss:1.715 | Train Acc:99.64%\n",
      "\t-Val Loss:1.955 | Val Acc:98.08%\n",
      "Epoch56\n",
      "\t-Train Loss:1.706 | Train Acc:99.88%\n",
      "\t-Val Loss:1.929 | Val Acc:98.00%\n",
      "Epoch57\n",
      "\t-Train Loss:1.714 | Train Acc:99.88%\n",
      "\t-Val Loss:1.968 | Val Acc:98.12%\n",
      "Epoch58\n",
      "\t-Train Loss:1.699 | Train Acc:99.96%\n",
      "\t-Val Loss:1.973 | Val Acc:97.88%\n",
      "Epoch59\n",
      "\t-Train Loss:1.704 | Train Acc:99.76%\n",
      "\t-Val Loss:1.957 | Val Acc:98.48%\n",
      "Epoch60\n",
      "\t-Train Loss:1.717 | Train Acc:99.84%\n",
      "\t-Val Loss:1.947 | Val Acc:97.84%\n",
      "Epoch61\n",
      "\t-Train Loss:1.707 | Train Acc:99.88%\n",
      "\t-Val Loss:1.951 | Val Acc:98.36%\n",
      "Epoch62\n",
      "\t-Train Loss:1.693 | Train Acc:100.00%\n",
      "\t-Val Loss:1.956 | Val Acc:98.60%\n",
      "Epoch63\n",
      "\t-Train Loss:1.703 | Train Acc:99.88%\n",
      "\t-Val Loss:1.965 | Val Acc:98.56%\n",
      "Epoch64\n",
      "\t-Train Loss:1.700 | Train Acc:99.84%\n",
      "\t-Val Loss:1.934 | Val Acc:98.56%\n",
      "Epoch65\n",
      "\t-Train Loss:1.699 | Train Acc:99.96%\n",
      "\t-Val Loss:1.970 | Val Acc:97.92%\n",
      "Epoch66\n",
      "\t-Train Loss:1.689 | Train Acc:100.00%\n",
      "\t-Val Loss:1.964 | Val Acc:97.96%\n",
      "Epoch67\n",
      "\t-Train Loss:1.700 | Train Acc:99.76%\n",
      "\t-Val Loss:1.976 | Val Acc:97.76%\n",
      "Epoch68\n",
      "\t-Train Loss:1.695 | Train Acc:100.00%\n",
      "\t-Val Loss:1.948 | Val Acc:98.16%\n",
      "Epoch69\n",
      "\t-Train Loss:1.703 | Train Acc:99.88%\n",
      "\t-Val Loss:1.952 | Val Acc:98.12%\n",
      "Epoch70\n",
      "\t-Train Loss:1.691 | Train Acc:99.88%\n",
      "\t-Val Loss:1.936 | Val Acc:98.48%\n",
      "Epoch71\n",
      "\t-Train Loss:1.699 | Train Acc:99.76%\n",
      "\t-Val Loss:1.934 | Val Acc:98.56%\n",
      "Epoch72\n",
      "\t-Train Loss:1.689 | Train Acc:99.88%\n",
      "\t-Val Loss:1.951 | Val Acc:98.12%\n",
      "Epoch73\n",
      "\t-Train Loss:1.696 | Train Acc:99.92%\n",
      "\t-Val Loss:1.969 | Val Acc:98.04%\n",
      "Epoch74\n",
      "\t-Train Loss:1.696 | Train Acc:100.00%\n",
      "\t-Val Loss:1.961 | Val Acc:98.08%\n",
      "Epoch75\n",
      "\t-Train Loss:1.691 | Train Acc:99.88%\n",
      "\t-Val Loss:1.968 | Val Acc:97.44%\n",
      "Epoch76\n",
      "\t-Train Loss:1.693 | Train Acc:99.96%\n",
      "\t-Val Loss:1.941 | Val Acc:98.48%\n",
      "Epoch77\n",
      "\t-Train Loss:1.689 | Train Acc:99.96%\n",
      "\t-Val Loss:1.965 | Val Acc:98.24%\n",
      "Epoch78\n",
      "\t-Train Loss:1.687 | Train Acc:99.92%\n",
      "\t-Val Loss:1.986 | Val Acc:97.52%\n",
      "Epoch79\n",
      "\t-Train Loss:1.683 | Train Acc:100.00%\n",
      "\t-Val Loss:1.957 | Val Acc:98.56%\n",
      "Epoch80\n",
      "\t-Train Loss:1.703 | Train Acc:99.84%\n",
      "\t-Val Loss:1.969 | Val Acc:98.12%\n",
      "Epoch81\n",
      "\t-Train Loss:1.690 | Train Acc:99.96%\n",
      "\t-Val Loss:1.944 | Val Acc:98.40%\n",
      "Epoch82\n",
      "\t-Train Loss:1.690 | Train Acc:99.84%\n",
      "\t-Val Loss:1.955 | Val Acc:98.00%\n",
      "Epoch83\n",
      "\t-Train Loss:1.684 | Train Acc:99.96%\n",
      "\t-Val Loss:1.950 | Val Acc:98.36%\n",
      "Epoch84\n",
      "\t-Train Loss:1.679 | Train Acc:100.00%\n",
      "\t-Val Loss:1.952 | Val Acc:98.76%\n",
      "Epoch85\n",
      "\t-Train Loss:1.683 | Train Acc:99.96%\n",
      "\t-Val Loss:1.968 | Val Acc:97.80%\n",
      "Epoch86\n",
      "\t-Train Loss:1.680 | Train Acc:99.92%\n",
      "\t-Val Loss:1.973 | Val Acc:98.12%\n",
      "Epoch87\n",
      "\t-Train Loss:1.682 | Train Acc:100.00%\n",
      "\t-Val Loss:1.989 | Val Acc:98.20%\n",
      "Epoch88\n",
      "\t-Train Loss:1.680 | Train Acc:100.00%\n",
      "\t-Val Loss:1.958 | Val Acc:98.68%\n",
      "Epoch89\n",
      "\t-Train Loss:1.683 | Train Acc:99.92%\n",
      "\t-Val Loss:1.974 | Val Acc:98.16%\n",
      "Epoch90\n",
      "\t-Train Loss:1.689 | Train Acc:100.00%\n",
      "\t-Val Loss:1.973 | Val Acc:98.00%\n",
      "Epoch91\n",
      "\t-Train Loss:1.676 | Train Acc:99.96%\n",
      "\t-Val Loss:1.945 | Val Acc:98.12%\n",
      "Epoch92\n",
      "\t-Train Loss:1.684 | Train Acc:99.88%\n",
      "\t-Val Loss:1.976 | Val Acc:98.36%\n",
      "Epoch93\n",
      "\t-Train Loss:1.688 | Train Acc:99.92%\n",
      "\t-Val Loss:1.976 | Val Acc:97.96%\n",
      "Epoch94\n",
      "\t-Train Loss:1.686 | Train Acc:99.96%\n",
      "\t-Val Loss:1.974 | Val Acc:97.72%\n",
      "Epoch95\n",
      "\t-Train Loss:1.685 | Train Acc:99.84%\n",
      "\t-Val Loss:1.969 | Val Acc:98.28%\n",
      "Epoch96\n",
      "\t-Train Loss:1.677 | Train Acc:100.00%\n",
      "\t-Val Loss:1.978 | Val Acc:97.60%\n",
      "Epoch97\n",
      "\t-Train Loss:1.684 | Train Acc:99.88%\n",
      "\t-Val Loss:2.006 | Val Acc:97.40%\n",
      "Epoch98\n",
      "\t-Train Loss:1.675 | Train Acc:100.00%\n",
      "\t-Val Loss:1.958 | Val Acc:98.36%\n",
      "Epoch99\n",
      "\t-Train Loss:1.683 | Train Acc:99.84%\n",
      "\t-Val Loss:1.964 | Val Acc:98.20%\n",
      "Epoch100\n",
      "\t-Train Loss:1.682 | Train Acc:99.92%\n",
      "\t-Val Loss:1.953 | Val Acc:98.16%\n"
     ]
    },
    {
     "data": {
      "image/png": "[encoded data removed]",
      "text/plain": [
       "<Figure size 864x432 with 2 Axes>"
      ]
     },
     "metadata": {
      "needs_background": "light"
     },
     "output_type": "display_data"
    }
   ],
   "source": [
    "import train\n",
    "\n",
    "num_tasks = 1000 # The total number of tasks in the predefined task distribution\n",
    "num_epochs = 100 # The number of epochs to train the model\n",
    "num_tasks_per_epoch = 100 # The number of tasks to be trained on for each epoch\n",
    "\n",
    "# metrics = [train accuracies, train losses, validation accuracies, validation losses]\n",
    "metrics = train.train_model(train_dataset, val_dataset, \n",
    "                            n_tasks=num_tasks, n_epochs=num_epochs, \n",
    "                            n_tpe=num_tasks_per_epoch)"
   ]
  },
  {
   "cell_type": "markdown",
   "id": "9b1a6395-a092-440c-92be-d0bf79a0db74",
   "metadata": {},
   "source": [
    "## Problem 3\n",
    "\n",
    "Finally, we will evaluate the generalization performance of the model by using a **different test setting from a training setting**.\n",
    "\n",
    "<br>\n",
    "\n",
    "As prototypical networks are based on a nonparametric method, we can flexibly train the model with different types of tasks (e.g. 5way1shot tasks + 5way5shot tasks). Let's assume we are allowed to use up to 30 training samples to train a single task. Evaluate the performance of the model when we train the model using **randomly defined training tasks**.\n",
    "\n",
    "\n",
    "\n",
    "**Problem**:\n",
    "\n",
    "1. In the `dataloader.py` file, implement the `random_data_generator` method.\n",
    "2. Using the experimental details outlined below, run experiments and compare with the results from Problem 2\n",
    "    - Note that you do not need to specify a set number of tasks for this problem\n",
    "\n",
    "\n",
    "**Experimental Details**:\n",
    "- *Train setting*: Assume to use exactly 30 images for each task (for support + query). First randomly select $N$ from the set $\\{2, 3, 5, 6, 10, 15\\}$. This means that each $N$ can use $\\{15, 10, 6, 5, 3, 2\\}$ samples per class respectively. By properly splitting the number of samples into 2 splits (support/query), we can randomly define different tasks.\n",
    "    - For example, an example support/query task can be defined as support={5-way 4-shot}, and query={5-way 2-shot}.\n",
    "    - *Extra Credit (optional)*: implement and test a method where we use a flexible number of images (not limited to just 30) where $N$ can also be defined randomly.\n",
    "- *Test setting*: 5way 5 shot (5$\\cdot$5 for support + 5$\\cdot$1 for query = 30 images)\n"
   ]
  },
  {
   "cell_type": "code",
   "execution_count": 4,
   "id": "e7b81f55-0b23-41b0-9a2c-44164eb58f34",
   "metadata": {},
   "outputs": [
    {
     "name": "stdout",
     "output_type": "stream",
     "text": [
      "Preprocessing train Omniglot dataset\n",
      "Finished preprocessing\n",
      "Preprocessing test Omniglot dataset\n",
      "Finished preprocessing\n"
     ]
    }
   ],
   "source": [
    "num_ways = 5\n",
    "support_shots = 5\n",
    "query_shots = 1\n",
    "\n",
    "train_dataset = DataLoader('train')\n",
    "val_dataset = DataLoader('test', n_way=num_ways, n_support=support_shots, n_query=query_shots)"
   ]
  },
  {
   "cell_type": "code",
   "execution_count": 5,
   "id": "8d925446-05fd-4ea0-9422-aab4c82e0890",
   "metadata": {},
   "outputs": [
    {
     "name": "stdout",
     "output_type": "stream",
     "text": [
      "Epoch1\n"
     ]
    },
    {
     "ename": "AssertionError",
     "evalue": "",
     "output_type": "error",
     "traceback": [
      "\u001b[1;31m---------------------------------------------------------------------------\u001b[0m",
      "\u001b[1;31mAssertionError\u001b[0m                            Traceback (most recent call last)",
      "Input \u001b[1;32mIn [5]\u001b[0m, in \u001b[0;36m<cell line: 5>\u001b[1;34m()\u001b[0m\n\u001b[0;32m      2\u001b[0m num_tasks_per_epoch \u001b[38;5;241m=\u001b[39m \u001b[38;5;241m100\u001b[39m \u001b[38;5;66;03m# The number of tasks to be trained on for each epoch\u001b[39;00m\n\u001b[0;32m      4\u001b[0m \u001b[38;5;66;03m# metrics = [train accuracies, train losses, validation accuracies, validation losses]\u001b[39;00m\n\u001b[1;32m----> 5\u001b[0m metrics \u001b[38;5;241m=\u001b[39m \u001b[43mtrain\u001b[49m\u001b[38;5;241;43m.\u001b[39;49m\u001b[43mtrain_model\u001b[49m\u001b[43m(\u001b[49m\u001b[43mtrain_dataset\u001b[49m\u001b[43m,\u001b[49m\u001b[43m \u001b[49m\u001b[43mval_dataset\u001b[49m\u001b[43m,\u001b[49m\u001b[43m \u001b[49m\n\u001b[0;32m      6\u001b[0m \u001b[43m                            \u001b[49m\u001b[43mn_tasks\u001b[49m\u001b[38;5;241;43m=\u001b[39;49m\u001b[43mnum_tasks\u001b[49m\u001b[43m,\u001b[49m\u001b[43m \u001b[49m\u001b[43mn_epochs\u001b[49m\u001b[38;5;241;43m=\u001b[39;49m\u001b[43mnum_epochs\u001b[49m\u001b[43m,\u001b[49m\u001b[43m \u001b[49m\n\u001b[0;32m      7\u001b[0m \u001b[43m                            \u001b[49m\u001b[43mn_tpe\u001b[49m\u001b[38;5;241;43m=\u001b[39;49m\u001b[43mnum_tasks_per_epoch\u001b[49m\u001b[43m,\u001b[49m\u001b[43m \u001b[49m\u001b[43mis_random\u001b[49m\u001b[38;5;241;43m=\u001b[39;49m\u001b[38;5;28;43;01mTrue\u001b[39;49;00m\u001b[43m)\u001b[49m\n",
      "File \u001b[1;32m~\\Documents\\GitHub\\meta-learning-lecture\\Assignment1\\train.py:70\u001b[0m, in \u001b[0;36mtrain_model\u001b[1;34m(train_dataset, val_dataset, n_tasks, n_epochs, n_tpe, is_random)\u001b[0m\n\u001b[0;32m     68\u001b[0m \u001b[38;5;28;01mfor\u001b[39;00m task \u001b[38;5;129;01min\u001b[39;00m tasks[:n_tpe]:\n\u001b[0;32m     69\u001b[0m     \u001b[38;5;28;01mif\u001b[39;00m is_random:\n\u001b[1;32m---> 70\u001b[0m         support, query \u001b[38;5;241m=\u001b[39m \u001b[43mtrain_dataset\u001b[49m\u001b[38;5;241;43m.\u001b[39;49m\u001b[43mrandom_data_generator\u001b[49m\u001b[43m(\u001b[49m\u001b[43m)\u001b[49m\n\u001b[0;32m     71\u001b[0m     \u001b[38;5;28;01melse\u001b[39;00m:\n\u001b[0;32m     72\u001b[0m         support, query \u001b[38;5;241m=\u001b[39m train_dataset\u001b[38;5;241m.\u001b[39mdata_generator(task)\n",
      "File \u001b[1;32m~\\Documents\\GitHub\\meta-learning-lecture\\Assignment1\\dataloader.py:124\u001b[0m, in \u001b[0;36mDataLoader.random_data_generator\u001b[1;34m(self)\u001b[0m\n\u001b[0;32m    115\u001b[0m n_query \u001b[38;5;241m=\u001b[39m \u001b[38;5;241m0\u001b[39m\n\u001b[0;32m    117\u001b[0m \u001b[38;5;66;03m############### Your code here ###################\u001b[39;00m\n\u001b[0;32m    118\u001b[0m     \u001b[38;5;66;03m# TODO: Find numbers for n_way, n_support, n_query\u001b[39;00m\n\u001b[0;32m    119\u001b[0m     \u001b[38;5;66;03m# where n_way * (n_support + n_query) == 30\u001b[39;00m\n\u001b[0;32m    120\u001b[0m \n\u001b[0;32m    121\u001b[0m \n\u001b[0;32m    122\u001b[0m \u001b[38;5;66;03m##################################################\u001b[39;00m\n\u001b[1;32m--> 124\u001b[0m \u001b[38;5;28;01massert\u001b[39;00m(n_way \u001b[38;5;241m*\u001b[39m (n_support \u001b[38;5;241m+\u001b[39m n_query) \u001b[38;5;241m==\u001b[39m \u001b[38;5;241m30\u001b[39m)\n\u001b[0;32m    126\u001b[0m \u001b[38;5;66;03m# Generate a random task\u001b[39;00m\n\u001b[0;32m    127\u001b[0m \u001b[38;5;28mself\u001b[39m\u001b[38;5;241m.\u001b[39mgenerate_task_list(n_tasks\u001b[38;5;241m=\u001b[39m\u001b[38;5;241m1\u001b[39m, n_way\u001b[38;5;241m=\u001b[39mn_way, n_support\u001b[38;5;241m=\u001b[39mn_support, n_query\u001b[38;5;241m=\u001b[39mn_query)\n",
      "\u001b[1;31mAssertionError\u001b[0m: "
     ]
    }
   ],
   "source": [
    "num_epochs = 10 # The number of epochs to train the model\n",
    "num_tasks_per_epoch = 100 # The number of tasks to be trained on for each epoch\n",
    "\n",
    "# metrics = [train accuracies, train losses, validation accuracies, validation losses]\n",
    "metrics = train.train_model(train_dataset, val_dataset, \n",
    "                            n_tasks=num_tasks, n_epochs=num_epochs, \n",
    "                            n_tpe=num_tasks_per_epoch, is_random=True)"
   ]
  }
 ],
 "metadata": {
  "kernelspec": {
   "display_name": "Python 3 (ipykernel)",
   "language": "python",
   "name": "python3"
  },
  "language_info": {
   "codemirror_mode": {
    "name": "ipython",
    "version": 3
   },
   "file_extension": ".py",
   "mimetype": "text/x-python",
   "name": "python",
   "nbconvert_exporter": "python",
   "pygments_lexer": "ipython3",
   "version": "3.9.12"
  }
 },
 "nbformat": 4,
 "nbformat_minor": 5
}
